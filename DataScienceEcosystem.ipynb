{
 "cells": [
  {
   "cell_type": "markdown",
   "id": "93e4b8b1-9e5a-4a85-a044-36c98b8253df",
   "metadata": {},
   "source": [
    "# Data Science Tools and Ecosystem\n"
   ]
  },
  {
   "cell_type": "markdown",
   "id": "5f513383-eeea-4cf6-ad78-b1d6f3fdc565",
   "metadata": {},
   "source": [
    "### In this notebook, Data Science Tools and Ecosystem are summarized."
   ]
  },
  {
   "cell_type": "markdown",
   "id": "98d14aca-f812-4ad4-9f4d-a7bb559ca5dc",
   "metadata": {},
   "source": [
    "### *Objectives:*\n",
    "\n",
    "* Popular languages in Data Scientists\n",
    "* Libraries used by Data Scientists\n",
    "* Data Science Tools\n"
   ]
  },
  {
   "cell_type": "markdown",
   "id": "5c48515d-027e-4032-91da-d2bfb730dd93",
   "metadata": {},
   "source": [
    "### Some of the popular languages that Data Scientists use are:\n",
    "\n",
    "* Python\n",
    "* R\n",
    "* SQL\n",
    "\n",
    "1. Python\n",
    "2. R\n",
    "3. SQL\n",
    "4. Scala\n",
    "5. Java\n",
    "6. C++"
   ]
  },
  {
   "cell_type": "markdown",
   "id": "e374073a-bcb6-4fd4-8726-149d77f4e5a0",
   "metadata": {},
   "source": [
    "### Some of the commonly used libraries used by Data Scientists include:\n",
    "\n",
    "* Pandas\n",
    "* Numpy\n",
    "* Matplotlib\n",
    "\n",
    "1. Seaborn\n",
    "2. Scikit-Learn\n",
    "3. Keras\n",
    "4. TensorFlow\n",
    "5. PyTorch"
   ]
  },
  {
   "cell_type": "markdown",
   "id": "e909346b-40ea-4236-b3c4-66742ea17d3d",
   "metadata": {},
   "source": [
    "|Data Science Tools|\n",
    "|---------------------------------|\n",
    "|MySQL|\n",
    "|Apache Spark SQL|\n",
    "|Git|"
   ]
  },
  {
   "cell_type": "markdown",
   "id": "77a2f220-4ed0-43e6-993d-e501b19176f2",
   "metadata": {},
   "source": [
    "### Below are a few examples of evaluating arithmetic expressions in Python"
   ]
  },
  {
   "cell_type": "code",
   "execution_count": 3,
   "id": "ce969697-61ef-4ac6-9aca-9ec6a8c181cf",
   "metadata": {},
   "outputs": [
    {
     "name": "stdout",
     "output_type": "stream",
     "text": [
      "17\n"
     ]
    }
   ],
   "source": [
    "#  This a simple arithmetic expression to mutiply then add integers\n",
    "\n",
    "suma = (3*4)+5\n",
    "print(suma)"
   ]
  },
  {
   "cell_type": "code",
   "execution_count": 4,
   "id": "72601223-c9e2-4f51-9c0c-e9e25d245c17",
   "metadata": {},
   "outputs": [
    {
     "name": "stdout",
     "output_type": "stream",
     "text": [
      "3.3333333333333335\n"
     ]
    }
   ],
   "source": [
    "# This will convert 200 minutes to hours by diving by 60\n",
    "\n",
    "minutes = 200\n",
    "hours = 60\n",
    "totalhours = minutes/hours\n",
    "\n",
    "print(totalhours)"
   ]
  },
  {
   "cell_type": "markdown",
   "id": "55a306cb-a9fc-414e-856a-76bfdbc34423",
   "metadata": {},
   "source": [
    "## Author:\n",
    "\n",
    " Valdez Mondello Facundo Oscar"
   ]
  }
 ],
 "metadata": {
  "kernelspec": {
   "display_name": "Python 3 (ipykernel)",
   "language": "python",
   "name": "python3"
  },
  "language_info": {
   "codemirror_mode": {
    "name": "ipython",
    "version": 3
   },
   "file_extension": ".py",
   "mimetype": "text/x-python",
   "name": "python",
   "nbconvert_exporter": "python",
   "pygments_lexer": "ipython3",
   "version": "3.12.7"
  }
 },
 "nbformat": 4,
 "nbformat_minor": 5
}
