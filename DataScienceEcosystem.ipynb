{
 "cells": [
  {
   "cell_type": "markdown",
   "id": "93e4b8b1-9e5a-4a85-a044-36c98b8253df",
   "metadata": {},
   "source": [
    "# Data Science Tools and Ecosystem\n"
   ]
  },
  {
   "cell_type": "markdown",
   "id": "5f513383-eeea-4cf6-ad78-b1d6f3fdc565",
   "metadata": {},
   "source": [
    "### En este cuaderno, se resumen las herramientas y ecosistemas de ciencia de datos."
   ]
  },
  {
   "cell_type": "markdown",
   "id": "98d14aca-f812-4ad4-9f4d-a7bb559ca5dc",
   "metadata": {},
   "source": [
    "### *Objetivos:*\n",
    "\n",
    "* Lenguajes populares que utilizan los científicos de datos\n",
    "* Bibliotecas comúnmente utilizadas por los científicos de datos\n",
    "* Herramientas de la Ciencia de Datos\n"
   ]
  },
  {
   "cell_type": "markdown",
   "id": "5c48515d-027e-4032-91da-d2bfb730dd93",
   "metadata": {},
   "source": [
    "### Algunos de los lenguajes populares que utilizan los científicos de datos son:\n",
    "\n",
    "* Python\n",
    "* R\n",
    "* SQL\n",
    "\n",
    "1. Python\n",
    "2. R\n",
    "3. SQL\n",
    "4. Scala\n",
    "5. Java\n",
    "6. C++"
   ]
  },
  {
   "cell_type": "markdown",
   "id": "e374073a-bcb6-4fd4-8726-149d77f4e5a0",
   "metadata": {},
   "source": [
    "### Algunas de las bibliotecas comúnmente utilizadas por los científicos de datos incluyen:\n",
    "\n",
    "* Pandas\n",
    "* Numpy\n",
    "* Matplotlib\n",
    "\n",
    "1. Seaborn\n",
    "2. Scikit-Learn\n",
    "3. Keras\n",
    "4. TensorFlow\n",
    "5. PyTorch"
   ]
  },
  {
   "cell_type": "markdown",
   "id": "e909346b-40ea-4236-b3c4-66742ea17d3d",
   "metadata": {},
   "source": [
    "|Herramientas de Ciencias de Datos|\n",
    "|---------------------------------|\n",
    "|MySQL|\n",
    "|Apache Spark SQL|\n",
    "|Git|"
   ]
  },
  {
   "cell_type": "markdown",
   "id": "77a2f220-4ed0-43e6-993d-e501b19176f2",
   "metadata": {},
   "source": [
    "### A continuación, se presentan algunos ejemplos de evaluación de expresiones aritméticas en Python"
   ]
  },
  {
   "cell_type": "code",
   "execution_count": 1,
   "id": "ce969697-61ef-4ac6-9aca-9ec6a8c181cf",
   "metadata": {},
   "outputs": [
    {
     "name": "stdout",
     "output_type": "stream",
     "text": [
      "17\n"
     ]
    }
   ],
   "source": [
    "# Esta es una expresión aritmética simple para multiplicar y luego sumar enteros\n",
    "\n",
    "suma = (3*4)+5\n",
    "print(suma)"
   ]
  },
  {
   "cell_type": "code",
   "execution_count": 2,
   "id": "72601223-c9e2-4f51-9c0c-e9e25d245c17",
   "metadata": {},
   "outputs": [
    {
     "name": "stdout",
     "output_type": "stream",
     "text": [
      "3.3333333333333335\n"
     ]
    }
   ],
   "source": [
    "# Esto convertirá 200 minutos a horas dividiendo por 60\n",
    "\n",
    "minutos = 200\n",
    "hora = 60\n",
    "horatotal = minutos/hora\n",
    "\n",
    "print(horatotal)"
   ]
  },
  {
   "cell_type": "markdown",
   "id": "55a306cb-a9fc-414e-856a-76bfdbc34423",
   "metadata": {},
   "source": [
    "## Autor:\n",
    "\n",
    " Valdez Mondello Facundo Oscar"
   ]
  },
  {
   "cell_type": "code",
   "execution_count": null,
   "id": "50cfdd59-c8dd-40ce-804a-8f31ad24eea0",
   "metadata": {},
   "outputs": [],
   "source": []
  }
 ],
 "metadata": {
  "kernelspec": {
   "display_name": "Python 3 (ipykernel)",
   "language": "python",
   "name": "python3"
  },
  "language_info": {
   "codemirror_mode": {
    "name": "ipython",
    "version": 3
   },
   "file_extension": ".py",
   "mimetype": "text/x-python",
   "name": "python",
   "nbconvert_exporter": "python",
   "pygments_lexer": "ipython3",
   "version": "3.12.7"
  }
 },
 "nbformat": 4,
 "nbformat_minor": 5
}
